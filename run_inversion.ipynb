{
 "cells": [
  {
   "cell_type": "markdown",
   "metadata": {},
   "source": [
    "# Run a set of inversions"
   ]
  },
  {
   "cell_type": "markdown",
   "metadata": {},
   "source": [
    "This notebook provides the settings to reproduce the Results section in Nummelin et al (2018). Most of the analysis was originally done in Python 2.7, but this notebook is written in Python 3.6 and the scripts should be compatible with that.\n",
    "\n",
    "Before running any of this make sure you have a working python environment (including the MicroInverse package), you have downloaded the data, and created a smoothed versions of the data."
   ]
  },
  {
   "cell_type": "markdown",
   "metadata": {},
   "source": [
    "## Common settings "
   ]
  },
  {
   "cell_type": "code",
   "execution_count": null,
   "metadata": {},
   "outputs": [],
   "source": [
    "inversion_method='integral'\n",
    "dt=1\n",
    "Field_cdf_name=var='sst'"
   ]
  },
  {
   "cell_type": "markdown",
   "metadata": {},
   "source": [
    "## Results in section 4.a"
   ]
  },
  {
   "cell_type": "markdown",
   "metadata": {},
   "source": [
    "The following will create one file for each tau (this will take several hours). Change the paths in the micro_inverse_python_clean.py to match your system."
   ]
  },
  {
   "cell_type": "code",
   "execution_count": null,
   "metadata": {},
   "outputs": [],
   "source": [
    "b_9point=False\n",
    "model_data=False\n",
    "decadal=False\n",
    "coarse=False\n",
    "time_ave=False\n",
    "weighted=False;\n",
    "smooth=False # smt='5.0'\n",
    "time_smooth=False\n",
    "coarse_ave=False\n",
    "coarse_ave_later=False\n",
    "tau_test=False\n",
    "profiles=False\n",
    "model_data=False\n",
    "timeseries_sensitivity=False; tlen=365*35; tts=365*7; tt0=0\n",
    "OSTIA=False\n",
    "smooth=False\n",
    "spatial_high_pass=True; smt='4.0'\n",
    "amsre_avhrr=False\n",
    "amsre_avhrr_data=False\n",
    "Taus=[1,2,3,4,5,6,7,8,10,15,20,30]\n",
    "for Tau in Taus:\n",
    "    print(Tau)\n",
    "    exec(open('micro_inverse_python_clean.py').read())\n"
   ]
  },
  {
   "cell_type": "code",
   "execution_count": null,
   "metadata": {},
   "outputs": [],
   "source": [
    "#Plot data - again, change the paths to match your system\n",
    "exec(open('micro_inverse_plotting_all_in_one_over_several_Taus.py').read())"
   ]
  },
  {
   "cell_type": "code",
   "execution_count": null,
   "metadata": {},
   "outputs": [],
   "source": [
    "#Plot the data \n",
    "exec(open('velocity_comparison.py').read())"
   ]
  },
  {
   "cell_type": "markdown",
   "metadata": {},
   "source": [
    "## Results in section 4.b.1 "
   ]
  },
  {
   "cell_type": "code",
   "execution_count": null,
   "metadata": {},
   "outputs": [],
   "source": [
    "import numpy as np\n",
    "b_9point=False\n",
    "decadal=False\n",
    "coarse=False\n",
    "time_ave=False\n",
    "weighted=False\n",
    "smooth=False\n",
    "time_ave=False\n",
    "time_smooth=False\n",
    "coarse_ave=False\n",
    "coarse_ave_later=False\n",
    "tau_test=False\n",
    "profiles=False\n",
    "model_data=False\n",
    "OSTIA=False\n",
    "time_ave=False\n",
    "year0=1982\n",
    "#\n",
    "amsre_avhrr=False\n",
    "amsre_avhrr_data=False\n",
    "#\n",
    "spatial_high_pass=True; smt='4.0'\n",
    "timeseries_sensitivity=True\n",
    "for tts in np.array([8*365,16*365]):\n",
    "    for Tau in [2,3,4,5,6,7,8,10]:\n",
    "        for tt0 in np.arange(0,32/(tts/365),4):\n",
    "            print(tts,Tau,tt0)\n",
    "            exec(open('micro_inverse_python_clean.py').read())\n"
   ]
  },
  {
   "cell_type": "markdown",
   "metadata": {},
   "source": [
    "## Results in section 4.b.2"
   ]
  },
  {
   "cell_type": "markdown",
   "metadata": {},
   "source": [
    "Here we will use the results from 4.a"
   ]
  },
  {
   "cell_type": "markdown",
   "metadata": {},
   "source": [
    "## Results in section 4.b.3"
   ]
  },
  {
   "cell_type": "code",
   "execution_count": null,
   "metadata": {},
   "outputs": [],
   "source": [
    "b_9point=False\n",
    "decadal=False\n",
    "coarse=False\n",
    "time_ave=False\n",
    "weighted=False\n",
    "smooth=False\n",
    "time_ave=False\n",
    "time_smooth=False\n",
    "coarse_ave=False\n",
    "coarse_ave_later=False\n",
    "tau_test=False\n",
    "profiles=False\n",
    "model_data=False\n",
    "OSTIA=False\n",
    "year0=1982\n",
    "xtypes=[None,None,None, None, 'monthly']\n",
    "#\n",
    "amsre_avhrr=False\n",
    "amsre_avhrr_data=False\n",
    "#\n",
    "spatial_high_pass=True; smt='4.0'\n",
    "timeseries_sensitivity=True\n",
    "for dd, dt in enumerate([5,10,15,20,30]):\n",
    "    xtype=xtypes[dd]\n",
    "    Tau=int(np.ceil(3./dt))\n",
    "    print(dt, Tau, year0, xtype)\n",
    "    exec(open('micro_inverse_python_clean.py').read())"
   ]
  },
  {
   "cell_type": "markdown",
   "metadata": {},
   "source": [
    "## Results in section 4.b.4"
   ]
  },
  {
   "cell_type": "markdown",
   "metadata": {},
   "source": [
    "Low-pass filtered version"
   ]
  },
  {
   "cell_type": "code",
   "execution_count": null,
   "metadata": {},
   "outputs": [],
   "source": [
    "b_9point=False\n",
    "decadal=False\n",
    "coarse=False\n",
    "time_ave=False\n",
    "weighted=False\n",
    "smooth=False\n",
    "time_ave=False\n",
    "time_smooth=False\n",
    "coarse_ave=False\n",
    "coarse_ave_later=False\n",
    "tau_test=False\n",
    "profiles=False\n",
    "model_data=False\n",
    "OSTIA=False\n",
    "year0=1982\n",
    "#\n",
    "amsre_avhrr=False\n",
    "amsre_avhrr_data=False\n",
    "#\n",
    "timeseries_sensitivity=False\n",
    "#\n",
    "smooth=True\n",
    "spatial_high_pass=False\n",
    "for smt in ['1.0','2.0','3.0','4.0','5.0']:\n",
    "    for Tau in [1,2,3,4,5,6,7,8,10]:                                           \n",
    "        print(smt, Tau)\n",
    "        exec(open('micro_inverse_python_clean.py').read())"
   ]
  },
  {
   "cell_type": "markdown",
   "metadata": {},
   "source": [
    "High-pass filtered version"
   ]
  },
  {
   "cell_type": "code",
   "execution_count": null,
   "metadata": {},
   "outputs": [],
   "source": [
    "smooth=False\n",
    "spatial_high_pass=True\n",
    "for smt in ['1.0','2.0','3.0','4.0','5.0']:\n",
    "    for Tau in [1,2,3,4,5,6,7,8,10]:                                           \n",
    "        print(smt, Tau)\n",
    "        exec(open('micro_inverse_python_clean.py').read())"
   ]
  }
 ],
 "metadata": {
  "kernelspec": {
   "display_name": "Python 3",
   "language": "python",
   "name": "python3"
  },
  "language_info": {
   "codemirror_mode": {
    "name": "ipython",
    "version": 3
   },
   "file_extension": ".py",
   "mimetype": "text/x-python",
   "name": "python",
   "nbconvert_exporter": "python",
   "pygments_lexer": "ipython3",
   "version": "3.6.5"
  }
 },
 "nbformat": 4,
 "nbformat_minor": 2
}
